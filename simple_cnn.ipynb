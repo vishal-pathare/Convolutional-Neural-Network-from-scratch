{
  "nbformat": 4,
  "nbformat_minor": 0,
  "metadata": {
    "colab": {
      "name": "simple_cnn.ipynb",
      "version": "0.3.2",
      "provenance": [],
      "collapsed_sections": []
    },
    "kernelspec": {
      "name": "python3",
      "display_name": "Python 3"
    },
    "accelerator": "GPU"
  },
  "cells": [
    {
      "cell_type": "code",
      "metadata": {
        "id": "g4ACEolVxpkD",
        "colab_type": "code",
        "colab": {}
      },
      "source": [
        "import numpy as np"
      ],
      "execution_count": 0,
      "outputs": []
    },
    {
      "cell_type": "code",
      "metadata": {
        "id": "WmBJtb45x4Za",
        "colab_type": "code",
        "colab": {}
      },
      "source": [
        "import CNN_core as CNN1"
      ],
      "execution_count": 0,
      "outputs": []
    },
    {
      "cell_type": "code",
      "metadata": {
        "id": "0IHx_5h6x61Q",
        "colab_type": "code",
        "colab": {}
      },
      "source": [
        "CNN = CNN1.CNN()"
      ],
      "execution_count": 0,
      "outputs": []
    },
    {
      "cell_type": "code",
      "metadata": {
        "id": "Lo4h5OeQyBh8",
        "colab_type": "code",
        "colab": {}
      },
      "source": [
        "#intializing the parameters\n",
        "parameters = {}\n",
        "parameters[\"W1\"] = CNN.init_parameter_conv((3, 3, 1, 32))\n",
        "parameters[\"b1\"] = np.zeros((1, 1, 1, 32))\n",
        "parameters[\"W2\"] = CNN.init_parameter_conv((3, 3, 32, 64))\n",
        "parameters[\"b2\"] = np.zeros((1, 1, 1, 64))\n",
        "parameters[\"W3\"] = CNN.init_parameter_fc((100, 14 * 14 * 64))\n",
        "parameters[\"b3\"] = np.zeros((100, 1))\n",
        "parameters[\"W4\"] = CNN.init_parameter_fc((10, 100))\n",
        "parameters[\"b4\"] = np.zeros((10, 1))"
      ],
      "execution_count": 0,
      "outputs": []
    },
    {
      "cell_type": "code",
      "metadata": {
        "id": "Cex-3ANbz0xP",
        "colab_type": "code",
        "colab": {}
      },
      "source": [
        "def feed_forward(X, parameters):\n",
        "    caches = {}\n",
        "    A_prev = X\n",
        "    Z, caches[\"conv1\"] = CNN.conv_forward(A_prev, parameters[\"W1\"], parameters[\"b1\"], stride = 1, padding = \"same\")\n",
        "    Z, caches[\"conv2\"] = CNN.conv_forward(Z, parameters[\"W2\"], parameters[\"b2\"], stride = 1, padding = \"same\")\n",
        "    Z, caches[\"pool\"] = CNN.pool_forward(Z, 2, 2, mode = \"max\")\n",
        "    \n",
        "    fc1 = Z.reshape((14 * 14 * 64, X.shape[0]))\n",
        "    \n",
        "    fc2, caches[\"fc2\"] = CNN.fc_forward(fc1, parameters[\"W3\"], parameters[\"b3\"], activation = \"relu\")\n",
        "    out, caches[\"out\"] = CNN.fc_forward(fc2, parameters[\"W4\"], parameters[\"b4\"], activation = \"sigmoid\")\n",
        "    \n",
        "    return out, caches"
      ],
      "execution_count": 0,
      "outputs": []
    },
    {
      "cell_type": "code",
      "metadata": {
        "id": "AM3T4qo01FQ4",
        "colab_type": "code",
        "colab": {
          "base_uri": "https://localhost:8080/",
          "height": 34
        },
        "outputId": "50b5099b-6718-4fb0-ee3b-4b85f788c8ee"
      },
      "source": [
        "from keras.datasets import mnist"
      ],
      "execution_count": 6,
      "outputs": [
        {
          "output_type": "stream",
          "text": [
            "Using TensorFlow backend.\n"
          ],
          "name": "stderr"
        }
      ]
    },
    {
      "cell_type": "code",
      "metadata": {
        "id": "tnLWlmkY1JKV",
        "colab_type": "code",
        "colab": {}
      },
      "source": [
        "(X_train, Y_train), (X_test, Y_test) = mnist.load_data()"
      ],
      "execution_count": 0,
      "outputs": []
    },
    {
      "cell_type": "code",
      "metadata": {
        "id": "1oH2FzHy1Nyb",
        "colab_type": "code",
        "colab": {}
      },
      "source": [
        "X_train = X_train.reshape(60000, 28, 28, 1)\n",
        "X_test = X_test.reshape((10000, 28, 28, 1))"
      ],
      "execution_count": 0,
      "outputs": []
    },
    {
      "cell_type": "code",
      "metadata": {
        "id": "GhhOwAxW1TRS",
        "colab_type": "code",
        "colab": {}
      },
      "source": [
        "def back_propagation(AL, Y, caches):\n",
        "    grads = {}\n",
        "    Y = Y.reshape(AL.shape)\n",
        "    dAL = -np.divide(Y, (AL + 1e-8)) + np.divide((1 - Y), (1 - AL + 1e-8))\n",
        "    dA, grads[\"dW4\"], grads[\"db4\"] = CNN.fc_back(dAL, caches[\"out\"], activation = \"sigmoid\")\n",
        "    dA, grads[\"dW3\"], grads[\"db3\"] = CNN.fc_back(dA, caches[\"fc2\"], activation = \"relu\")\n",
        "    dA = dA.reshape(AL.shape[1], 14, 14, 64)\n",
        "    dA = CNN.pool_backward(dA, caches[\"pool\"])\n",
        "    dA, grads[\"dW2\"], grads[\"db2\"] = CNN.conv_backward(dA, caches[\"conv2\"])\n",
        "    dA, grads[\"dW1\"], grads[\"db1\"] = CNN.conv_backward(dA, caches[\"conv1\"])\n",
        "    \n",
        "    return grads"
      ],
      "execution_count": 0,
      "outputs": []
    },
    {
      "cell_type": "code",
      "metadata": {
        "id": "1l5PeM3O2pvw",
        "colab_type": "code",
        "colab": {}
      },
      "source": [
        "def train(X, Y, parameters, learning_rate = 0.0075, no_of_iterations = 1, print_cost = True, batch_size = 64, optimizer = \"adam_optimizer\"):\n",
        "    if optimizer == \"adam_optimizer\":\n",
        "        v, s = CNN.adam_initializer(parameters)\n",
        "    X = X.reshape(784, X.shape[0])\n",
        "    for i in range(no_of_iterations):\n",
        "        mini_batches = CNN.random_minibatches(X, Y, batch_size)\n",
        "        for mini_batch in mini_batches:\n",
        "            (mini_batch_X, mini_batch_Y) = mini_batch\n",
        "            mini_batch_X = mini_batch_X.reshape(batch_size, 28, 28, 1)\n",
        "            AL, caches = feed_forward(mini_batch_X, parameters)\n",
        "            present_cost = CNN.cost(AL, mini_batch_Y, parameters)\n",
        "            grads = back_propagation(AL, mini_batch_Y, caches)\n",
        "            if optimizer == \"gradient_descent_optimizer\":\n",
        "                parameters = CNN.gradient_descent_update(grads, parameters, learning_rate)\n",
        "            else:\n",
        "                parameters = CNN.adam_optimizer_update(v, s, grads, learning_rate, parameters)\n",
        "            if print_cost == True:\n",
        "                print (\"Cost of {}th iterations is {}\".format(i, present_cost))\n",
        "        if print_cost == True:\n",
        "            print (\"Cost of {}th iteration is {}\".format(i, present_cost))\n",
        "    print (\"Final cost is : {}\".format(present_cost))\n",
        "    return parameters\n",
        "        "
      ],
      "execution_count": 0,
      "outputs": []
    },
    {
      "cell_type": "code",
      "metadata": {
        "id": "dviKMMNV20ZE",
        "colab_type": "code",
        "colab": {}
      },
      "source": [
        "X_train_mean = int(np.mean(X_train))\n",
        "X_train_sd = int(np.std(X_train))\n",
        "X_train = X_train - X_train_mean\n",
        "X_test = X_test - X_train_mean\n",
        "X_train = X_train / X_train_sd\n",
        "X_test = X_test / X_train_sd"
      ],
      "execution_count": 0,
      "outputs": []
    },
    {
      "cell_type": "code",
      "metadata": {
        "id": "r0S3x_Hg26MN",
        "colab_type": "code",
        "colab": {}
      },
      "source": [
        "Y_test = list(Y_test)\n",
        "for i in range(len(Y_test)):\n",
        "    test = [0] * 10\n",
        "    test[Y_test[i]] = 1\n",
        "    Y_test[i] = test\n",
        "Y_test = np.array(Y_test)"
      ],
      "execution_count": 0,
      "outputs": []
    },
    {
      "cell_type": "code",
      "metadata": {
        "id": "WZGBJSxf2-yi",
        "colab_type": "code",
        "colab": {}
      },
      "source": [
        "Y_train = list(Y_train)\n",
        "for i in range(len(Y_train)):\n",
        "    test = [0] * 10\n",
        "    test[Y_train[i]] = 1\n",
        "    Y_train[i] = test\n",
        "Y_train = np.array(Y_train)"
      ],
      "execution_count": 0,
      "outputs": []
    },
    {
      "cell_type": "code",
      "metadata": {
        "id": "qlaQySpp3Bhy",
        "colab_type": "code",
        "colab": {}
      },
      "source": [
        "Y_train, Y_test = Y_train.T, Y_test.T"
      ],
      "execution_count": 0,
      "outputs": []
    },
    {
      "cell_type": "code",
      "metadata": {
        "id": "vbkp0Qfg3D_X",
        "colab_type": "code",
        "colab": {
          "base_uri": "https://localhost:8080/",
          "height": 34
        },
        "outputId": "0a23f724-4842-4937-d3e6-e686d2637926"
      },
      "source": [
        "X_train.shape, X_test.shape, Y_train.shape, Y_test.shape"
      ],
      "execution_count": 15,
      "outputs": [
        {
          "output_type": "execute_result",
          "data": {
            "text/plain": [
              "((60000, 28, 28, 1), (10000, 28, 28, 1), (10, 60000), (10, 10000))"
            ]
          },
          "metadata": {
            "tags": []
          },
          "execution_count": 15
        }
      ]
    },
    {
      "cell_type": "code",
      "metadata": {
        "id": "gYcCMmLL3Gzi",
        "colab_type": "code",
        "colab": {
          "base_uri": "https://localhost:8080/",
          "height": 833
        },
        "outputId": "55bdb10c-3f73-40b9-f18d-0bbacf5a65b3"
      },
      "source": [
        "parameters = train(X_train, Y_train, parameters, batch_size = 32, no_of_iterations = 2, optimizer = \"gradient_descent_optimizer\")"
      ],
      "execution_count": 0,
      "outputs": [
        {
          "output_type": "stream",
          "text": [
            "Cost of 0th iterations is 7.062388149291554\n",
            "Cost of 0th iterations is 7.063440340935154\n",
            "Cost of 0th iterations is 7.066575023750786\n",
            "Cost of 0th iterations is 7.067631930625154\n",
            "Cost of 0th iterations is 7.067625805754361\n",
            "Cost of 0th iterations is 7.067619681170667\n",
            "Cost of 0th iterations is 7.06761355687406\n",
            "Cost of 0th iterations is 7.067607432864526\n",
            "Cost of 0th iterations is 7.067601309142052\n",
            "Cost of 0th iterations is 7.067595185706624\n",
            "Cost of 0th iterations is 7.067589062558229\n",
            "Cost of 0th iterations is 7.067582939696853\n",
            "Cost of 0th iterations is 7.067576817122482\n",
            "Cost of 0th iterations is 7.067570694835104\n",
            "Cost of 0th iterations is 7.067564572834705\n",
            "Cost of 0th iterations is 7.067558451121271\n",
            "Cost of 0th iterations is 7.067552329694789\n",
            "Cost of 0th iterations is 7.067546208555246\n",
            "Cost of 0th iterations is 7.0675400877026275\n",
            "Cost of 0th iterations is 7.067533967136921\n",
            "Cost of 0th iterations is 7.067527846858112\n",
            "Cost of 0th iterations is 7.067521726866188\n",
            "Cost of 0th iterations is 7.067515607161136\n",
            "Cost of 0th iterations is 7.0675094877429405\n",
            "Cost of 0th iterations is 7.0675033686115905\n",
            "Cost of 0th iterations is 7.0674972497670705\n",
            "Cost of 0th iterations is 7.067491131209368\n",
            "Cost of 0th iterations is 7.06748501293847\n",
            "Cost of 0th iterations is 7.067478894954363\n",
            "Cost of 0th iterations is 7.0674727772570325\n",
            "Cost of 0th iterations is 7.067466659846466\n",
            "Cost of 0th iterations is 7.06746054272265\n",
            "Cost of 0th iterations is 7.06745442588557\n",
            "Cost of 0th iterations is 7.067448309335214\n",
            "Cost of 0th iterations is 7.067442193071568\n",
            "Cost of 0th iterations is 7.0674360770946185\n",
            "Cost of 0th iterations is 7.067429961404351\n",
            "Cost of 0th iterations is 7.067423846000755\n",
            "Cost of 0th iterations is 7.067417730883814\n",
            "Cost of 0th iterations is 7.067411616053516\n",
            "Cost of 0th iterations is 7.067405501509847\n",
            "Cost of 0th iterations is 7.067399387252794\n",
            "Cost of 0th iterations is 7.0673932732823435\n",
            "Cost of 0th iterations is 7.067387159598482\n",
            "Cost of 0th iterations is 7.067381046201196\n",
            "Cost of 0th iterations is 7.0673749330904725\n",
            "Cost of 0th iterations is 7.067368820266298\n"
          ],
          "name": "stdout"
        }
      ]
    }
  ]
}